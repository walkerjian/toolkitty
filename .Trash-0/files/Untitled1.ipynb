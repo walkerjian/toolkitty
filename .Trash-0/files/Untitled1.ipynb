{
 "cells": [
  {
   "cell_type": "code",
   "execution_count": 36,
   "id": "7620fa27-2c93-462d-be53-ab80556197c2",
   "metadata": {},
   "outputs": [],
   "source": [
    "import matplotlib.pyplot as plt\n",
    "\n",
    "# Simple plot to test matplotlib\n",
    "plt.plot([1, 2, 3, 4], [1, 4, 9, 16])\n",
    "plt.xlabel('X-axis')\n",
    "plt.ylabel('Y-axis')\n",
    "plt.title('Test Plot')\n",
    "plt.show()\n"
   ]
  },
  {
   "cell_type": "code",
   "execution_count": 16,
   "id": "a30ab21e-859f-408f-a398-fcad3253d130",
   "metadata": {},
   "outputs": [
    {
     "name": "stdout",
     "output_type": "stream",
     "text": [
      "Your IP address is: 172.21.0.2\n",
      "The connection to https://www.google.com is secure (HTTPS).\n",
      "traceroute to www.google.com (142.251.221.68), 30 hops max, 60 byte packets\n",
      " 1  172.21.0.1 (172.21.0.1)  0.809 ms  0.764 ms  0.744 ms\n",
      " 2  * 192.168.64.1 (192.168.64.1)  0.675 ms  0.638 ms\n",
      " 3  mymodem.modem (192.168.0.1)  1.154 ms  1.131 ms  1.092 ms\n",
      " 4  gateway.qb10.brisbane.asp.telstra.net (58.162.26.10)  29.173 ms  29.129 ms  29.082 ms\n",
      " 5  ae10.woo-ice301.brisbane.telstra.net (203.50.61.17)  21.607 ms ae10.cha-ice301.brisbane.telstra.net (203.50.61.1)  20.705 ms ae10.woo-ice301.brisbane.telstra.net (203.50.61.17)  21.444 ms\n",
      " 6  bundle-ether25.cha-core30.brisbane.telstra.net (203.50.61.0)  21.397 ms bundle-ether25.woo-core30.brisbane.telstra.net (203.50.61.16)  21.313 ms  20.888 ms\n",
      " 7  bundle-ether4.stl-core30.sydney.telstra.net (203.50.13.155)  31.720 ms  31.685 ms bundle-ether5.hay-core30.sydney.telstra.net (203.50.13.157)  35.539 ms\n",
      " 8  bundle-ether1.ken-edge903.sydney.telstra.net (203.50.11.173)  34.013 ms  34.448 ms  34.411 ms\n",
      " 9  goo2503069.lnk.telstra.net (58.163.91.194)  30.697 ms  30.455 ms  29.795 ms\n",
      "10  192.178.97.155 (192.178.97.155)  35.178 ms  35.148 ms 192.178.97.141 (192.178.97.141)  31.490 ms\n",
      "11  142.251.252.205 (142.251.252.205)  32.208 ms 142.251.252.203 (142.251.252.203)  32.769 ms  34.844 ms\n",
      "12  syd09s31-in-f4.1e100.net (142.251.221.68)  32.686 ms  32.442 ms  31.106 ms\n",
      "Skipping hop with invalid latency:  1  172.21.0.1 (172.21.0.1)  0.809 ms  0.764 ms  0.744 ms\n",
      "Skipping hop with invalid latency:  3  mymodem.modem (192.168.0.1)  1.154 ms  1.131 ms  1.092 ms\n",
      "Skipping hop with invalid latency:  4  gateway.qb10.brisbane.asp.telstra.net (58.162.26.10)  29.173 ms  29.129 ms  29.082 ms\n",
      "Skipping hop with invalid latency:  5  ae10.woo-ice301.brisbane.telstra.net (203.50.61.17)  21.607 ms ae10.cha-ice301.brisbane.telstra.net (203.50.61.1)  20.705 ms ae10.woo-ice301.brisbane.telstra.net (203.50.61.17)  21.444 ms\n",
      "Skipping hop with invalid latency:  6  bundle-ether25.cha-core30.brisbane.telstra.net (203.50.61.0)  21.397 ms bundle-ether25.woo-core30.brisbane.telstra.net (203.50.61.16)  21.313 ms  20.888 ms\n",
      "Skipping hop with invalid latency:  7  bundle-ether4.stl-core30.sydney.telstra.net (203.50.13.155)  31.720 ms  31.685 ms bundle-ether5.hay-core30.sydney.telstra.net (203.50.13.157)  35.539 ms\n",
      "Skipping hop with invalid latency:  8  bundle-ether1.ken-edge903.sydney.telstra.net (203.50.11.173)  34.013 ms  34.448 ms  34.411 ms\n",
      "Skipping hop with invalid latency:  9  goo2503069.lnk.telstra.net (58.163.91.194)  30.697 ms  30.455 ms  29.795 ms\n"
     ]
    }
   ],
   "source": [
    "# Import the main function from controller.py\n",
    "from controller import main\n",
    "\n",
    "# Run the main function\n",
    "main()\n"
   ]
  },
  {
   "cell_type": "code",
   "execution_count": 17,
   "id": "1b04e44a-36b5-4693-bef5-894c13b31f87",
   "metadata": {},
   "outputs": [
    {
     "name": "stdout",
     "output_type": "stream",
     "text": [
      "Your IP address is: 172.21.0.2\n",
      "The connection to https://www.google.com is secure (HTTPS).\n",
      "traceroute to www.google.com (142.251.221.68), 30 hops max, 60 byte packets\n",
      " 1  172.21.0.1 (172.21.0.1)  0.489 ms  0.512 ms  0.497 ms\n",
      " 2  * 192.168.64.1 (192.168.64.1)  0.451 ms  0.419 ms\n",
      " 3  mymodem.modem (192.168.0.1)  0.888 ms  0.853 ms  0.875 ms\n",
      " 4  gateway.qb10.brisbane.asp.telstra.net (58.162.26.10)  37.995 ms  37.960 ms  37.931 ms\n",
      " 5  ae10.cha-ice301.brisbane.telstra.net (203.50.61.1)  19.760 ms ae10.woo-ice301.brisbane.telstra.net (203.50.61.17)  20.181 ms  19.699 ms\n",
      " 6  bundle-ether25.woo-core30.brisbane.telstra.net (203.50.61.16)  21.219 ms bundle-ether25.cha-core30.brisbane.telstra.net (203.50.61.0)  20.430 ms  20.071 ms\n",
      " 7  bundle-ether5.hay-core30.sydney.telstra.net (203.50.13.157)  35.546 ms  35.512 ms  35.483 ms\n",
      " 8  bundle-ether1.chw-edge903.sydney.telstra.net (203.50.11.177)  31.119 ms  30.732 ms  30.697 ms\n",
      " 9  goo2503069.lnk.telstra.net (58.163.91.194)  30.494 ms goo2503144.lnk.telstra.net (58.163.91.202)  34.327 ms  34.267 ms\n",
      "10  192.178.97.145 (192.178.97.145)  31.398 ms 192.178.97.211 (192.178.97.211)  32.188 ms 192.178.97.137 (192.178.97.137)  35.285 ms\n",
      "11  142.251.252.203 (142.251.252.203)  32.439 ms  34.675 ms 142.251.252.205 (142.251.252.205)  34.199 ms\n",
      "12  syd09s31-in-f4.1e100.net (142.251.221.68)  34.455 ms  32.765 ms  34.124 ms\n",
      "Skipping hop with invalid latency:  1  172.21.0.1 (172.21.0.1)  0.489 ms  0.512 ms  0.497 ms\n",
      "Skipping hop with invalid latency:  3  mymodem.modem (192.168.0.1)  0.888 ms  0.853 ms  0.875 ms\n",
      "Skipping hop with invalid latency:  4  gateway.qb10.brisbane.asp.telstra.net (58.162.26.10)  37.995 ms  37.960 ms  37.931 ms\n",
      "Skipping hop with invalid latency:  5  ae10.cha-ice301.brisbane.telstra.net (203.50.61.1)  19.760 ms ae10.woo-ice301.brisbane.telstra.net (203.50.61.17)  20.181 ms  19.699 ms\n",
      "Skipping hop with invalid latency:  6  bundle-ether25.woo-core30.brisbane.telstra.net (203.50.61.16)  21.219 ms bundle-ether25.cha-core30.brisbane.telstra.net (203.50.61.0)  20.430 ms  20.071 ms\n",
      "Skipping hop with invalid latency:  7  bundle-ether5.hay-core30.sydney.telstra.net (203.50.13.157)  35.546 ms  35.512 ms  35.483 ms\n",
      "Skipping hop with invalid latency:  8  bundle-ether1.chw-edge903.sydney.telstra.net (203.50.11.177)  31.119 ms  30.732 ms  30.697 ms\n",
      "Skipping hop with invalid latency:  9  goo2503069.lnk.telstra.net (58.163.91.194)  30.494 ms goo2503144.lnk.telstra.net (58.163.91.202)  34.327 ms  34.267 ms\n"
     ]
    }
   ],
   "source": [
    "# Run the entire controller.py script\n",
    "%run controller.py\n"
   ]
  },
  {
   "cell_type": "code",
   "execution_count": 18,
   "id": "7a1e05e2-c0d0-4a07-8861-6ec616929290",
   "metadata": {},
   "outputs": [
    {
     "name": "stdout",
     "output_type": "stream",
     "text": [
      "Your IP address is: 172.21.0.2\n",
      "The connection to https://www.google.com is secure (HTTPS).\n",
      "traceroute to www.google.com (142.251.221.68), 30 hops max, 60 byte packets\n",
      " 1  172.21.0.1 (172.21.0.1)  0.648 ms  0.614 ms  0.597 ms\n",
      " 2  * 192.168.64.1 (192.168.64.1)  0.544 ms  0.501 ms\n",
      " 3  mymodem.modem (192.168.0.1)  1.142 ms  1.019 ms  1.051 ms\n",
      " 4  gateway.qb10.brisbane.asp.telstra.net (58.162.26.10)  44.674 ms  44.643 ms  44.601 ms\n",
      " 5  ae10.woo-ice301.brisbane.telstra.net (203.50.61.17)  20.033 ms  20.000 ms ae10.cha-ice301.brisbane.telstra.net (203.50.61.1)  23.688 ms\n",
      " 6  bundle-ether25.woo-core30.brisbane.telstra.net (203.50.61.16)  21.846 ms  21.045 ms  21.296 ms\n",
      " 7  bundle-ether4.stl-core30.sydney.telstra.net (203.50.13.155)  30.714 ms  30.682 ms  30.647 ms\n",
      " 8  bundle-ether1.chw-edge903.sydney.telstra.net (203.50.11.177)  30.597 ms bundle-ether1.ken-edge903.sydney.telstra.net (203.50.11.173)  35.006 ms  34.972 ms\n",
      " 9  goo2503144.lnk.telstra.net (58.163.91.202)  34.341 ms 72.14.212.22 (72.14.212.22)  34.036 ms  33.988 ms\n",
      "10  192.178.97.219 (192.178.97.219)  32.138 ms 192.178.97.211 (192.178.97.211)  32.275 ms  32.706 ms\n",
      "11  142.251.252.205 (142.251.252.205)  31.984 ms 142.251.252.203 (142.251.252.203)  34.933 ms 142.251.252.205 (142.251.252.205)  32.739 ms\n",
      "12  syd09s31-in-f4.1e100.net (142.251.221.68)  32.706 ms  34.340 ms  32.490 ms\n",
      "Skipping hop with invalid latency:  1  172.21.0.1 (172.21.0.1)  0.648 ms  0.614 ms  0.597 ms\n",
      "Skipping hop with invalid latency:  3  mymodem.modem (192.168.0.1)  1.142 ms  1.019 ms  1.051 ms\n",
      "Skipping hop with invalid latency:  4  gateway.qb10.brisbane.asp.telstra.net (58.162.26.10)  44.674 ms  44.643 ms  44.601 ms\n",
      "Skipping hop with invalid latency:  5  ae10.woo-ice301.brisbane.telstra.net (203.50.61.17)  20.033 ms  20.000 ms ae10.cha-ice301.brisbane.telstra.net (203.50.61.1)  23.688 ms\n",
      "Skipping hop with invalid latency:  6  bundle-ether25.woo-core30.brisbane.telstra.net (203.50.61.16)  21.846 ms  21.045 ms  21.296 ms\n",
      "Skipping hop with invalid latency:  7  bundle-ether4.stl-core30.sydney.telstra.net (203.50.13.155)  30.714 ms  30.682 ms  30.647 ms\n",
      "Skipping hop with invalid latency:  8  bundle-ether1.chw-edge903.sydney.telstra.net (203.50.11.177)  30.597 ms bundle-ether1.ken-edge903.sydney.telstra.net (203.50.11.173)  35.006 ms  34.972 ms\n",
      "Skipping hop with invalid latency:  9  goo2503144.lnk.telstra.net (58.163.91.202)  34.341 ms 72.14.212.22 (72.14.212.22)  34.036 ms  33.988 ms\n"
     ]
    }
   ],
   "source": [
    "from model import get_ip_address, check_https, traceroute, geolocate_ip\n",
    "from view import print_ip_address, print_https_check, print_traceroute_output, print_hop_info, print_invalid_latency, plot_latency\n",
    "\n",
    "def main():\n",
    "    # Check IP Address\n",
    "    ip_address = get_ip_address()\n",
    "    print_ip_address(ip_address)\n",
    "\n",
    "    # Check HTTPS for a common site\n",
    "    url = \"https://www.google.com\"\n",
    "    is_secure = check_https(url)\n",
    "    print_https_check(url, is_secure)\n",
    "\n",
    "    # Perform a traceroute\n",
    "    traceroute_output = traceroute(\"www.google.com\")\n",
    "    print_traceroute_output(traceroute_output)\n",
    "\n",
    "    # Analyze traceroute output\n",
    "    hops = []\n",
    "    latencies = []\n",
    "    for line in traceroute_output:\n",
    "        if line.startswith(\" \"):\n",
    "            parts = line.split()\n",
    "            if len(parts) >= 9:\n",
    "                hop = parts[1]\n",
    "                latency = parts[4]\n",
    "                ip = parts[3]\n",
    "                try:\n",
    "                    latencies.append(float(latency.replace('ms', '')))\n",
    "                    hops.append(hop)\n",
    "                    country, description = geolocate_ip(ip)\n",
    "                    print_hop_info(hop, ip, latency, country, description)\n",
    "                except ValueError:\n",
    "                    print_invalid_latency(line)\n",
    "\n",
    "    # Plot latency\n",
    "    if hops and latencies:\n",
    "        plot_latency(hops, latencies)\n",
    "\n",
    "if __name__ == \"__main__\":\n",
    "    main()\n"
   ]
  },
  {
   "cell_type": "code",
   "execution_count": 19,
   "id": "b19e2a15-1d10-4d5a-be71-cfb9df7ae147",
   "metadata": {},
   "outputs": [],
   "source": [
    "import socket\n",
    "import requests\n",
    "import subprocess\n",
    "import platform\n",
    "from ipwhois import IPWhois\n",
    "\n",
    "def get_ip_address():\n",
    "    hostname = socket.gethostname()\n",
    "    ip_address = socket.gethostbyname(hostname)\n",
    "    return ip_address\n",
    "\n",
    "def check_https(url):\n",
    "    try:\n",
    "        response = requests.get(url)\n",
    "        return response.url.startswith(\"https://\")\n",
    "    except requests.exceptions.RequestException:\n",
    "        return False\n",
    "\n",
    "def traceroute(host):\n",
    "    os_name = platform.system()\n",
    "    if os_name == \"Windows\":\n",
    "        command = ['tracert', host]\n",
    "    else:\n",
    "        command = ['traceroute', host]\n",
    "    \n",
    "    try:\n",
    "        result = subprocess.run(command, stdout=subprocess.PIPE, stderr=subprocess.PIPE)\n",
    "        if result.returncode == 0:\n",
    "            return result.stdout.decode('utf-8').splitlines()\n",
    "        else:\n",
    "            return []\n",
    "    except Exception:\n",
    "        return []\n",
    "\n",
    "def geolocate_ip(ip):\n",
    "    try:\n",
    "        obj = IPWhois(ip)\n",
    "        res = obj.lookup_rdap()\n",
    "        return res['asn_country_code'], res['asn_description']\n",
    "    except Exception:\n",
    "        return \"Unknown\", \"Unknown\"\n"
   ]
  },
  {
   "cell_type": "code",
   "execution_count": 20,
   "id": "ac581a45-dcf6-4eb3-93a8-f1a53418f9b1",
   "metadata": {},
   "outputs": [
    {
     "data": {
      "text/plain": [
       "<contextlib.ExitStack at 0x7f1204937050>"
      ]
     },
     "execution_count": 20,
     "metadata": {},
     "output_type": "execute_result"
    }
   ],
   "source": [
    "import matplotlib.pyplot as plt\n",
    "\n",
    "# Use the 'Agg' backend for rendering plots in a headless environment\n",
    "plt.switch_backend('Agg')\n",
    "\n",
    "def print_ip_address(ip_address):\n",
    "    print(f\"Your IP address is: {ip_address}\")\n",
    "\n",
    "def print_https_check(url, is_secure):\n",
    "    status = \"secure (HTTPS)\" if is_secure else \"not secure (HTTP)\"\n",
    "    print(f\"The connection to {url} is {status}.\")\n",
    "\n",
    "def print_traceroute_output(traceroute_output):\n",
    "    for line in traceroute_output:\n",
    "        print(line)\n",
    "\n",
    "def print_hop_info(hop, ip, latency, country, description):\n",
    "    print(f\"Hop: {hop}, IP: {ip}, Latency: {latency}, Location: {country}, Description: {description}\")\n",
    "\n",
    "def print_invalid_latency(line):\n",
    "    print(f\"Skipping hop with invalid latency: {line}\")\n",
    "\n",
    "def plot_latency(hops, latencies):\n",
    "    plt.figure(figsize=(10, 5))\n",
    "    plt.plot(hops, latencies, marker='o')\n",
    "    plt.title('Traceroute Latency')\n",
    "    plt.xlabel('Hop')\n",
    "    plt.ylabel('Latency (ms)')\n",
    "    plt.grid(True)\n",
    "    plt.savefig('latency_plot.png')  # Save the plot to a file\n",
    "    plt.show()  # Ensure the plot is displayed\n",
    "\n",
    "# Ensure interactive mode is enabled\n",
    "plt.ion()\n"
   ]
  },
  {
   "cell_type": "code",
   "execution_count": 21,
   "id": "322fdb9e-875b-460d-ba28-a83eafb7ffad",
   "metadata": {},
   "outputs": [
    {
     "name": "stdout",
     "output_type": "stream",
     "text": [
      "Your IP address is: 172.21.0.2\n",
      "The connection to https://www.google.com is secure (HTTPS).\n"
     ]
    }
   ],
   "source": [
    "from model import get_ip_address, check_https\n",
    "\n",
    "# Check IP Address\n",
    "ip_address = get_ip_address()\n",
    "print(f\"Your IP address is: {ip_address}\")\n",
    "\n",
    "# Check HTTPS for a common site\n",
    "url = \"https://www.google.com\"\n",
    "is_secure = check_https(url)\n",
    "print(f\"The connection to {url} is secure (HTTPS).\" if is_secure else f\"The connection to {url} is not secure (HTTP).\")\n"
   ]
  },
  {
   "cell_type": "code",
   "execution_count": 22,
   "id": "d23d18c4-3572-4910-9f95-cc213bcdff96",
   "metadata": {},
   "outputs": [
    {
     "name": "stdout",
     "output_type": "stream",
     "text": [
      "traceroute to www.google.com (142.251.221.68), 30 hops max, 60 byte packets\n",
      " 1  172.21.0.1 (172.21.0.1)  0.705 ms  0.716 ms  0.701 ms\n",
      " 2  * 192.168.64.1 (192.168.64.1)  0.618 ms  0.604 ms\n",
      " 3  mymodem.modem (192.168.0.1)  1.112 ms  1.171 ms  1.127 ms\n",
      " 4  gateway.qb10.brisbane.asp.telstra.net (58.162.26.10)  19.931 ms  19.888 ms  19.840 ms\n",
      " 5  ae10.woo-ice301.brisbane.telstra.net (203.50.61.17)  20.243 ms  34.158 ms ae10.cha-ice301.brisbane.telstra.net (203.50.61.1)  20.152 ms\n",
      " 6  bundle-ether25.woo-core30.brisbane.telstra.net (203.50.61.16)  20.561 ms  19.837 ms bundle-ether25.cha-core30.brisbane.telstra.net (203.50.61.0)  19.850 ms\n",
      " 7  bundle-ether5.hay-core30.sydney.telstra.net (203.50.13.157)  35.533 ms  35.487 ms bundle-ether4.stl-core30.sydney.telstra.net (203.50.13.155)  30.050 ms\n",
      " 8  bundle-ether1.chw-edge903.sydney.telstra.net (203.50.11.177)  30.355 ms bundle-ether1.ken-edge903.sydney.telstra.net (203.50.11.173)  34.122 ms bundle-ether1.chw-edge903.sydney.telstra.net (203.50.11.177)  30.822 ms\n",
      " 9  goo2503144.lnk.telstra.net (58.163.91.202)  34.371 ms 72.14.212.22 (72.14.212.22)  34.297 ms goo2503069.lnk.telstra.net (58.163.91.194)  30.442 ms\n",
      "10  192.178.97.155 (192.178.97.155)  35.169 ms 192.178.97.219 (192.178.97.219)  32.252 ms 192.178.97.225 (192.178.97.225)  34.590 ms\n",
      "11  142.251.252.205 (142.251.252.205)  34.118 ms 142.251.252.203 (142.251.252.203)  32.544 ms 142.251.252.205 (142.251.252.205)  32.511 ms\n",
      "12  syd09s31-in-f4.1e100.net (142.251.221.68)  32.230 ms  32.246 ms  34.798 ms\n"
     ]
    }
   ],
   "source": [
    "from model import traceroute\n",
    "\n",
    "# Perform a traceroute\n",
    "traceroute_output = traceroute(\"www.google.com\")\n",
    "for line in traceroute_output:\n",
    "    print(line)\n"
   ]
  },
  {
   "cell_type": "code",
   "execution_count": 23,
   "id": "cdafbe0c-4efc-4ea6-a5c2-334de533fdf3",
   "metadata": {},
   "outputs": [
    {
     "name": "stdout",
     "output_type": "stream",
     "text": [
      "Skipping hop with invalid latency:  1  172.21.0.1 (172.21.0.1)  0.705 ms  0.716 ms  0.701 ms\n",
      "Skipping hop with invalid latency:  3  mymodem.modem (192.168.0.1)  1.112 ms  1.171 ms  1.127 ms\n",
      "Skipping hop with invalid latency:  4  gateway.qb10.brisbane.asp.telstra.net (58.162.26.10)  19.931 ms  19.888 ms  19.840 ms\n",
      "Skipping hop with invalid latency:  5  ae10.woo-ice301.brisbane.telstra.net (203.50.61.17)  20.243 ms  34.158 ms ae10.cha-ice301.brisbane.telstra.net (203.50.61.1)  20.152 ms\n",
      "Skipping hop with invalid latency:  6  bundle-ether25.woo-core30.brisbane.telstra.net (203.50.61.16)  20.561 ms  19.837 ms bundle-ether25.cha-core30.brisbane.telstra.net (203.50.61.0)  19.850 ms\n",
      "Skipping hop with invalid latency:  7  bundle-ether5.hay-core30.sydney.telstra.net (203.50.13.157)  35.533 ms  35.487 ms bundle-ether4.stl-core30.sydney.telstra.net (203.50.13.155)  30.050 ms\n",
      "Skipping hop with invalid latency:  8  bundle-ether1.chw-edge903.sydney.telstra.net (203.50.11.177)  30.355 ms bundle-ether1.ken-edge903.sydney.telstra.net (203.50.11.173)  34.122 ms bundle-ether1.chw-edge903.sydney.telstra.net (203.50.11.177)  30.822 ms\n",
      "Skipping hop with invalid latency:  9  goo2503144.lnk.telstra.net (58.163.91.202)  34.371 ms 72.14.212.22 (72.14.212.22)  34.297 ms goo2503069.lnk.telstra.net (58.163.91.194)  30.442 ms\n"
     ]
    }
   ],
   "source": [
    "from model import geolocate_ip\n",
    "from view import print_hop_info, print_invalid_latency\n",
    "\n",
    "# Analyze traceroute output\n",
    "hops = []\n",
    "latencies = []\n",
    "for line in traceroute_output:\n",
    "    if line.startswith(\" \"):\n",
    "        parts = line.split()\n",
    "        if len(parts) >= 9:\n",
    "            hop = parts[1]\n",
    "            latency = parts[4]\n",
    "            ip = parts[3]\n",
    "            try:\n",
    "                latencies.append(float(latency.replace('ms', '')))\n",
    "                hops.append(hop)\n",
    "                country, description = geolocate_ip(ip)\n",
    "                print_hop_info(hop, ip, latency, country, description)\n",
    "            except ValueError:\n",
    "                print_invalid_latency(line)\n"
   ]
  },
  {
   "cell_type": "code",
   "execution_count": 24,
   "id": "78ebeead-62da-4405-b87a-999c15f4c4af",
   "metadata": {},
   "outputs": [],
   "source": [
    "from view import plot_latency\n",
    "\n",
    "# Plot latency\n",
    "if hops and latencies:\n",
    "    plot_latency(hops, latencies)\n"
   ]
  },
  {
   "cell_type": "code",
   "execution_count": 25,
   "id": "85c60b46-bb84-4085-8525-902c9b6081f7",
   "metadata": {},
   "outputs": [
    {
     "name": "stdout",
     "output_type": "stream",
     "text": [
      "Your IP address is: 172.21.0.2\n",
      "The connection to https://www.google.com is secure (HTTPS).\n"
     ]
    }
   ],
   "source": [
    "from model import get_ip_address, check_https\n",
    "\n",
    "# Check IP Address\n",
    "ip_address = get_ip_address()\n",
    "print(f\"Your IP address is: {ip_address}\")\n",
    "\n",
    "# Check HTTPS for a common site\n",
    "url = \"https://www.google.com\"\n",
    "is_secure = check_https(url)\n",
    "print(f\"The connection to {url} is secure (HTTPS).\" if is_secure else f\"The connection to {url} is not secure (HTTP).\")\n"
   ]
  },
  {
   "cell_type": "code",
   "execution_count": 26,
   "id": "63c515b1-0d2d-45a8-9501-ba2a1415c873",
   "metadata": {},
   "outputs": [
    {
     "data": {
      "text/plain": [
       "['traceroute to www.microsoft.com (23.219.209.234), 30 hops max, 60 byte packets',\n",
       " ' 1  172.21.0.1 (172.21.0.1)  0.649 ms  0.619 ms  0.636 ms',\n",
       " ' 2  192.168.64.1 (192.168.64.1)  0.622 ms  0.590 ms  0.563 ms',\n",
       " ' 3  mymodem.modem (192.168.0.1)  0.937 ms  0.904 ms  0.793 ms',\n",
       " ' 4  gateway.qb10.brisbane.asp.telstra.net (58.162.26.10)  18.937 ms  19.275 ms  19.241 ms',\n",
       " ' 5  ae161.cha-ice301.brisbane.telstra.net (203.46.69.2)  22.620 ms  25.396 ms  22.554 ms',\n",
       " ' 6  203.46.69.3 (203.46.69.3)  25.322 ms  34.169 ms  34.115 ms',\n",
       " ' 7  * * *',\n",
       " ' 8  * * *',\n",
       " ' 9  * * *',\n",
       " '10  * * *',\n",
       " '11  * * *',\n",
       " '12  * * *',\n",
       " '13  * * *',\n",
       " '14  * * *',\n",
       " '15  * * *',\n",
       " '16  * * *',\n",
       " '17  * * *',\n",
       " '18  * * *',\n",
       " '19  * * *',\n",
       " '20  * * *',\n",
       " '21  * * *',\n",
       " '22  * * *',\n",
       " '23  * * *',\n",
       " '24  * * *',\n",
       " '25  * * *',\n",
       " '26  * * *',\n",
       " '27  * * *',\n",
       " '28  * * *',\n",
       " '29  * * *',\n",
       " '30  * * *']"
      ]
     },
     "execution_count": 26,
     "metadata": {},
     "output_type": "execute_result"
    }
   ],
   "source": [
    "traceroute(\"www.microsoft.com\")"
   ]
  },
  {
   "cell_type": "code",
   "execution_count": 28,
   "id": "95fded4d-b4b8-4a54-b5f0-e595ae56d588",
   "metadata": {},
   "outputs": [
    {
     "name": "stdout",
     "output_type": "stream",
     "text": [
      "Requirement already satisfied: ipwhois in /usr/local/lib/python3.11/site-packages (1.2.0)\n",
      "Requirement already satisfied: dnspython<=2.0.0 in /usr/local/lib/python3.11/site-packages (from ipwhois) (2.0.0)\n",
      "\u001b[33mWARNING: Running pip as the 'root' user can result in broken permissions and conflicting behaviour with the system package manager. It is recommended to use a virtual environment instead: https://pip.pypa.io/warnings/venv\u001b[0m\u001b[33m\n",
      "\u001b[0m\n",
      "\u001b[1m[\u001b[0m\u001b[34;49mnotice\u001b[0m\u001b[1;39;49m]\u001b[0m\u001b[39;49m A new release of pip is available: \u001b[0m\u001b[31;49m24.0\u001b[0m\u001b[39;49m -> \u001b[0m\u001b[32;49m24.1\u001b[0m\n",
      "\u001b[1m[\u001b[0m\u001b[34;49mnotice\u001b[0m\u001b[1;39;49m]\u001b[0m\u001b[39;49m To update, run: \u001b[0m\u001b[32;49mpip install --upgrade pip\u001b[0m\n"
     ]
    }
   ],
   "source": [
    "!pip install ipwhois"
   ]
  },
  {
   "cell_type": "code",
   "execution_count": 29,
   "id": "46365851-bb07-48d4-ba79-87a23ea68a5a",
   "metadata": {},
   "outputs": [
    {
     "name": "stdout",
     "output_type": "stream",
     "text": [
      "Country: US, Description: GOOGLE, US\n"
     ]
    }
   ],
   "source": [
    "from ipwhois import IPWhois\n",
    "\n",
    "def geolocate_ip(ip):\n",
    "    try:\n",
    "        obj = IPWhois(ip)\n",
    "        res = obj.lookup_rdap()\n",
    "        return res['asn_country_code'], res['asn_description']\n",
    "    except Exception as e:\n",
    "        return \"Unknown\", f\"Exception: {e}\"\n",
    "\n",
    "ip = '8.8.8.8'  # Example IP\n",
    "country, description = geolocate_ip(ip)\n",
    "print(f\"Country: {country}, Description: {description}\")\n"
   ]
  },
  {
   "cell_type": "code",
   "execution_count": 40,
   "id": "df52920c-4146-4642-9db0-4b0039e4218b",
   "metadata": {},
   "outputs": [
    {
     "name": "stdout",
     "output_type": "stream",
     "text": [
      "Your IP address is: 172.21.0.2\n",
      "The connection to https://www.google.com is secure (HTTPS).\n",
      "traceroute to www.google.com (142.250.66.228), 30 hops max, 60 byte packets\n",
      " 1  172.21.0.1 (172.21.0.1)  0.746 ms  0.698 ms  0.676 ms\n",
      " 2  192.168.64.1 (192.168.64.1)  0.658 ms  0.483 ms  0.416 ms\n",
      " 3  mymodem.modem (192.168.0.1)  1.167 ms  1.136 ms  1.186 ms\n",
      " 4  gateway.qb10.brisbane.asp.telstra.net (58.162.26.10)  26.467 ms  26.567 ms  26.790 ms\n",
      " 5  ae10.woo-ice301.brisbane.telstra.net (203.50.61.17)  20.918 ms  20.884 ms  20.849 ms\n",
      " 6  bundle-ether25.woo-core30.brisbane.telstra.net (203.50.61.16)  21.742 ms bundle-ether25.cha-core30.brisbane.telstra.net (203.50.61.0)  19.453 ms  21.431 ms\n",
      " 7  bundle-ether4.stl-core30.sydney.telstra.net (203.50.13.155)  31.163 ms  31.556 ms bundle-ether5.hay-core30.sydney.telstra.net (203.50.13.157)  35.473 ms\n",
      " 8  bundle-ether1.ken-edge903.sydney.telstra.net (203.50.11.173)  34.094 ms  34.254 ms bundle-ether1.chw-edge903.sydney.telstra.net (203.50.11.177)  31.009 ms\n",
      " 9  74.125.49.138 (74.125.49.138)  30.974 ms goo2503069.lnk.telstra.net (58.163.91.194)  30.944 ms goo2503144.lnk.telstra.net (58.163.91.202)  34.501 ms\n",
      "10  192.178.98.27 (192.178.98.27)  33.299 ms 192.178.97.93 (192.178.97.93)  33.414 ms 192.178.98.21 (192.178.98.21)  34.409 ms\n",
      "11  142.250.224.189 (142.250.224.189)  33.984 ms 142.250.224.191 (142.250.224.191)  31.679 ms 142.250.224.189 (142.250.224.189)  35.479 ms\n",
      "12  syd15s15-in-f4.1e100.net (142.250.66.228)  32.538 ms  32.412 ms  32.350 ms\n",
      "IP: 0.746, Country: Unknown, Description: Unknown\n",
      "IP: 0.658, Country: Unknown, Description: Unknown\n",
      "IP: 1.167, Country: Unknown, Description: Unknown\n",
      "IP: 26.467, Country: Unknown, Description: Unknown\n",
      "IP: 20.918, Country: Unknown, Description: Unknown\n",
      "IP: 21.742, Country: Unknown, Description: Unknown\n",
      "IP: 31.163, Country: Unknown, Description: Unknown\n",
      "IP: 34.094, Country: Unknown, Description: Unknown\n",
      "IP: 30.974, Country: Unknown, Description: Unknown\n"
     ]
    },
    {
     "data": {
      "image/png": "[encoded data removed]",
      "text/plain": [
       "<Figure size 1000x500 with 1 Axes>"
      ]
     },
     "metadata": {},
     "output_type": "display_data"
    }
   ],
   "source": [
    "from model import get_ip_address, check_https, traceroute, geolocate_ip\n",
    "from view import plot_latency\n",
    "%matplotlib inline\n",
    "# Test IP Address\n",
    "ip_address = get_ip_address()\n",
    "print(f\"Your IP address is: {ip_address}\")\n",
    "\n",
    "# Test HTTPS Check\n",
    "url = \"https://www.google.com\"\n",
    "is_secure = check_https(url)\n",
    "print(f\"The connection to {url} is secure (HTTPS).\" if is_secure else f\"The connection to {url} is not secure (HTTP).\")\n",
    "\n",
    "# Test Traceroute\n",
    "traceroute_output = traceroute(\"www.google.com\")\n",
    "for line in traceroute_output:\n",
    "    print(line)\n",
    "\n",
    "# Test Geolocation\n",
    "for line in traceroute_output:\n",
    "    if line.startswith(\" \"):\n",
    "        parts = line.split()\n",
    "        if len(parts) >= 9:\n",
    "            ip = parts[3]\n",
    "            country, description = geolocate_ip(ip)\n",
    "            print(f\"IP: {ip}, Country: {country}, Description: {description}\")\n",
    "\n",
    "# Test Plot Latency\n",
    "hops = [1, 2, 3]\n",
    "latencies = [10, 20, 30]\n",
    "plot_latency(hops, latencies)\n"
   ]
  },
  {
   "cell_type": "code",
   "execution_count": 31,
   "id": "69a31561-abd2-4981-86a3-81e3950a2ad4",
   "metadata": {},
   "outputs": [],
   "source": [
    "hops = [1, 2, 3]\n",
    "latencies = [10, 20, 30]\n",
    "plot_latency(hops, latencies)"
   ]
  },
  {
   "cell_type": "code",
   "execution_count": 38,
   "id": "2a58b580-f380-4827-ae46-bf1ddfda2927",
   "metadata": {},
   "outputs": [],
   "source": [
    "import matplotlib.pyplot as plt\n",
    "\n",
    "# Use the 'Agg' backend for rendering plots in a headless environment\n",
    "plt.switch_backend('Agg')\n",
    "\n",
    "def print_ip_address(ip_address):\n",
    "    print(f\"Your IP address is: {ip_address}\")\n",
    "\n",
    "def print_https_check(url, is_secure):\n",
    "    status = \"secure (HTTPS)\" if is_secure else \"not secure (HTTP)\"\n",
    "    print(f\"The connection to {url} is {status}.\")\n",
    "\n",
    "def print_traceroute_output(traceroute_output):\n",
    "    for line in traceroute_output:\n",
    "        print(line)\n",
    "\n",
    "def print_hop_info(hop, ip, latency, country, description):\n",
    "    print(f\"Hop: {hop}, IP: {ip}, Latency: {latency}, Location: {country}, Description: {description}\")\n",
    "\n",
    "def print_invalid_latency(line):\n",
    "    print(f\"Skipping hop with invalid latency: {line}\")\n",
    "\n",
    "def plot_latency(hops, latencies):\n",
    "    plt.figure(figsize=(10, 5))\n",
    "    plt.plot(hops, latencies, marker='o')\n",
    "    plt.title('Traceroute Latency')\n",
    "    plt.xlabel('Hop')\n",
    "    plt.ylabel('Latency (ms)')\n",
    "    plt.grid(True)\n",
    "    plt.savefig('latency_plot.png')  # Save the plot to a file\n",
    "    plt.show()  # Ensure the plot is displayed\n",
    "\n",
    "# Ensure interactive mode is enabled\n",
    "#plt.ion()\n",
    "hops = [1, 2, 3]\n",
    "latencies = [10, 20, 30]\n",
    "plot_latency(hops, latencies)"
   ]
  },
  {
   "cell_type": "code",
   "execution_count": 35,
   "id": "c35f8e39-eb94-4e50-944a-05c20d20e3c4",
   "metadata": {},
   "outputs": [],
   "source": [
    "import matplotlib.pyplot as plt\n",
    "\n",
    "# Simple plot to test matplotlib\n",
    "plt.plot([1, 2, 3, 4], [1, 4, 9, 16])\n",
    "plt.xlabel('X-axis')\n",
    "plt.ylabel('Y-axis')\n",
    "plt.title('Test Plot')\n",
    "plt.show()"
   ]
  },
  {
   "cell_type": "code",
   "execution_count": 39,
   "id": "1b427a45-f8b9-437c-acef-bd7a84911268",
   "metadata": {},
   "outputs": [
    {
     "data": {
      "image/png": "[encoded data removed]",
      "text/plain": [
       "<Figure size 1000x500 with 1 Axes>"
      ]
     },
     "metadata": {},
     "output_type": "display_data"
    }
   ],
   "source": [
    "# Use the inline backend to display plots within the Jupyter Notebook\n",
    "%matplotlib inline\n",
    "\n",
    "import matplotlib.pyplot as plt\n",
    "\n",
    "# Simple plot to test matplotlib\n",
    "plt.plot([1, 2, 3, 4], [1, 4, 9, 16])\n",
    "plt.xlabel('X-axis')\n",
    "plt.ylabel('Y-axis')\n",
    "plt.title('Test Plot')\n",
    "plt.show()\n"
   ]
  },
  {
   "cell_type": "code",
   "execution_count": null,
   "id": "53ecf483-881e-45d1-8064-3cc234dae1bc",
   "metadata": {},
   "outputs": [],
   "source": []
  }
 ],
 "metadata": {
  "kernelspec": {
   "display_name": "Python 3 (ipykernel)",
   "language": "python",
   "name": "python3"
  },
  "language_info": {
   "codemirror_mode": {
    "name": "ipython",
    "version": 3
   },
   "file_extension": ".py",
   "mimetype": "text/x-python",
   "name": "python",
   "nbconvert_exporter": "python",
   "pygments_lexer": "ipython3",
   "version": "3.11.9"
  }
 },
 "nbformat": 4,
 "nbformat_minor": 5
}
