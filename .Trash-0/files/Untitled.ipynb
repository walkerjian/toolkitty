{
 "cells": [
  {
   "cell_type": "code",
   "execution_count": 1,
   "id": "4d75dfbd",
   "metadata": {},
   "outputs": [
    {
     "name": "stdout",
     "output_type": "stream",
     "text": [
      "Requirement already satisfied: ipwhois in /Users/walkerjian/radioconda/lib/python3.11/site-packages (1.2.0)\r\n",
      "Requirement already satisfied: dnspython<=2.0.0 in /Users/walkerjian/radioconda/lib/python3.11/site-packages (from ipwhois) (2.0.0)\r\n"
     ]
    }
   ],
   "source": [
    "!pip install ipwhois"
   ]
  },
  {
   "cell_type": "code",
   "execution_count": 2,
   "id": "6921e938",
   "metadata": {},
   "outputs": [
    {
     "ename": "ModuleNotFoundError",
     "evalue": "No module named 'ipwhois'",
     "output_type": "error",
     "traceback": [
      "\u001b[0;31m---------------------------------------------------------------------------\u001b[0m",
      "\u001b[0;31mModuleNotFoundError\u001b[0m                       Traceback (most recent call last)",
      "\u001b[0;32m<ipython-input-2-d6813e8d63e9>\u001b[0m in \u001b[0;36m<module>\u001b[0;34m\u001b[0m\n\u001b[1;32m      4\u001b[0m \u001b[0;32mimport\u001b[0m \u001b[0mplatform\u001b[0m\u001b[0;34m\u001b[0m\u001b[0;34m\u001b[0m\u001b[0m\n\u001b[1;32m      5\u001b[0m \u001b[0;34m\u001b[0m\u001b[0m\n\u001b[0;32m----> 6\u001b[0;31m \u001b[0;32mfrom\u001b[0m \u001b[0mipwhois\u001b[0m \u001b[0;32mimport\u001b[0m \u001b[0mIPWhois\u001b[0m\u001b[0;34m\u001b[0m\u001b[0;34m\u001b[0m\u001b[0m\n\u001b[0m\u001b[1;32m      7\u001b[0m \u001b[0;32mimport\u001b[0m \u001b[0mmatplotlib\u001b[0m\u001b[0;34m.\u001b[0m\u001b[0mpyplot\u001b[0m \u001b[0;32mas\u001b[0m \u001b[0mplt\u001b[0m\u001b[0;34m\u001b[0m\u001b[0;34m\u001b[0m\u001b[0m\n\u001b[1;32m      8\u001b[0m \u001b[0;32mimport\u001b[0m \u001b[0mos\u001b[0m\u001b[0;34m\u001b[0m\u001b[0;34m\u001b[0m\u001b[0m\n",
      "\u001b[0;31mModuleNotFoundError\u001b[0m: No module named 'ipwhois'"
     ]
    }
   ],
   "source": [
    "import socket\n",
    "import requests\n",
    "import subprocess\n",
    "import platform\n",
    "\n",
    "from ipwhois import IPWhois\n",
    "import matplotlib.pyplot as plt\n",
    "import os\n",
    "\n",
    "def get_ip_address():\n",
    "    hostname = socket.gethostname()\n",
    "    ip_address = socket.gethostbyname(hostname)\n",
    "    return ip_address\n",
    "\n",
    "def check_https(url):\n",
    "    try:\n",
    "        response = requests.get(url)\n",
    "        return response.url.startswith(\"https://\")\n",
    "    except requests.exceptions.RequestException:\n",
    "        return False\n",
    "\n",
    "def traceroute(host):\n",
    "    os_name = platform.system()\n",
    "    if os_name == \"Windows\":\n",
    "        command = ['tracert', host]\n",
    "    else:\n",
    "        command = ['traceroute', host]\n",
    "    \n",
    "    try:\n",
    "        result = subprocess.run(command, stdout=subprocess.PIPE, stderr=subprocess.PIPE)\n",
    "        if result.returncode == 0:\n",
    "            return result.stdout.decode('utf-8').splitlines()\n",
    "        else:\n",
    "            return []\n",
    "    except Exception:\n",
    "        return []\n",
    "\n",
    "def geolocate_ip(ip):\n",
    "    try:\n",
    "        obj = IPWhois(ip)\n",
    "        res = obj.lookup_rdap()\n",
    "        return res['asn_country_code'], res['asn_description']\n",
    "    except Exception:\n",
    "        return \"Unknown\", \"Unknown\"\n",
    "\n",
    "def plot_latency(hops, latencies):\n",
    "    plt.figure(figsize=(10, 5))\n",
    "    plt.plot(hops, latencies, marker='o')\n",
    "    plt.title('Traceroute Latency')\n",
    "    plt.xlabel('Hop')\n",
    "    plt.ylabel('Latency (ms)')\n",
    "    plt.grid(True)\n",
    "    plt.savefig('latency_plot.png')  # Save the plot to a file\n",
    "    plt.show()  # Ensure the plot is displayed\n",
    "\n",
    "def main():\n",
    "    # Check IP Address\n",
    "    ip_address = get_ip_address()\n",
    "    print(f\"Your IP address is: {ip_address}\")\n",
    "\n",
    "    # Check HTTPS for a common site\n",
    "    url = \"https://www.google.com\"\n",
    "    is_secure = check_https(url)\n",
    "    print(f\"The connection to {url} is secure (HTTPS).\" if is_secure else f\"The connection to {url} is not secure (HTTP).\")\n",
    "\n",
    "    # Perform a traceroute\n",
    "    traceroute_output = traceroute(\"www.google.com\")\n",
    "\n",
    "    # Analyze traceroute output\n",
    "    hops = []\n",
    "    latencies = []\n",
    "    for line in traceroute_output:\n",
    "        if line.startswith(\" \"):\n",
    "            parts = line.split()\n",
    "            if len(parts) >= 9:\n",
    "                hop = parts[1]\n",
    "                latency = parts[4]\n",
    "                ip = parts[3]\n",
    "                try:\n",
    "                    latencies.append(float(latency.replace('ms', '')))\n",
    "                    hops.append(hop)\n",
    "                    country, description = geolocate_ip(ip)\n",
    "                    print(f\"Hop: {hop}, IP: {ip}, Latency: {latency}, Location: {country}, Description: {description}\")\n",
    "                except ValueError:\n",
    "                    print(f\"Skipping hop with invalid latency: {line}\")\n",
    "\n",
    "    # Plot latency\n",
    "    if hops and latencies:\n",
    "        plot_latency(hops, latencies)\n",
    "\n",
    "# Run the main function\n",
    "main()\n"
   ]
  },
  {
   "cell_type": "code",
   "execution_count": null,
   "id": "4e2898be",
   "metadata": {},
   "outputs": [],
   "source": []
  }
 ],
 "metadata": {
  "kernelspec": {
   "display_name": "Python 3",
   "language": "python",
   "name": "python3"
  },
  "language_info": {
   "codemirror_mode": {
    "name": "ipython",
    "version": 3
   },
   "file_extension": ".py",
   "mimetype": "text/x-python",
   "name": "python",
   "nbconvert_exporter": "python",
   "pygments_lexer": "ipython3",
   "version": "3.8.10"
  }
 },
 "nbformat": 4,
 "nbformat_minor": 5
}
